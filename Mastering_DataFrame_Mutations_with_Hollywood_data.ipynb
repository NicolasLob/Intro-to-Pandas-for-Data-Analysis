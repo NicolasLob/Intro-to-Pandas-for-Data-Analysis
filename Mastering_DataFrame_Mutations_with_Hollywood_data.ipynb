{
  "nbformat": 4,
  "nbformat_minor": 0,
  "metadata": {
    "colab": {
      "provenance": [],
      "authorship_tag": "ABX9TyPaZF4swn8XLyjyumXsd0UG",
      "include_colab_link": true
    },
    "kernelspec": {
      "name": "python3",
      "display_name": "Python 3"
    },
    "language_info": {
      "name": "python"
    }
  },
  "cells": [
    {
      "cell_type": "markdown",
      "metadata": {
        "id": "view-in-github",
        "colab_type": "text"
      },
      "source": [
        "<a href=\"https://colab.research.google.com/github/NicolasLob/Intro-to-Pandas-for-Data-Analysis/blob/main/Mastering_DataFrame_Mutations_with_Hollywood_data.ipynb\" target=\"_parent\"><img src=\"https://colab.research.google.com/assets/colab-badge.svg\" alt=\"Open In Colab\"/></a>"
      ]
    },
    {
      "cell_type": "markdown",
      "source": [
        "### Introduction"
      ],
      "metadata": {
        "id": "1FXk7-5Romel"
      }
    },
    {
      "cell_type": "code",
      "source": [
        "import pandas as pd\n",
        "\n",
        "df = pd.read_csv(\"movies.csv\")\n"
      ],
      "metadata": {
        "id": "zT3ahpXXowfM"
      },
      "execution_count": null,
      "outputs": []
    },
    {
      "cell_type": "code",
      "source": [
        "df.columns"
      ],
      "metadata": {
        "id": "9fb_ArB4o-Dc"
      },
      "execution_count": null,
      "outputs": []
    },
    {
      "cell_type": "code",
      "source": [
        "df.head()"
      ],
      "metadata": {
        "id": "J_GHNxZFpAXF"
      },
      "execution_count": null,
      "outputs": []
    },
    {
      "cell_type": "markdown",
      "source": [
        "### Activities\n"
      ],
      "metadata": {
        "id": "wJ_Oxck0pbOV"
      }
    },
    {
      "cell_type": "markdown",
      "source": [
        "##### 1. Create a new column `revenue`"
      ],
      "metadata": {
        "id": "JLU0TnxJuYtb"
      }
    },
    {
      "cell_type": "code",
      "source": [
        "import pandas as pd\n",
        "\n",
        "df = pd.read_csv(\"movies.csv\")\n",
        "\n",
        "df = df.assign(revenue = df.gross - df.budget)\n",
        "\n",
        "df"
      ],
      "metadata": {
        "id": "6mA1cOGauZ-S"
      },
      "execution_count": null,
      "outputs": []
    },
    {
      "cell_type": "markdown",
      "source": [
        "##### 2. Create a new column `percentage_profit`"
      ],
      "metadata": {
        "id": "X7K6NQw7uiC5"
      }
    },
    {
      "cell_type": "code",
      "source": [
        "import pandas as pd\n",
        "\n",
        "df = pd.read_csv(\"movies.csv\")\n",
        "\n",
        "df = df.assign(revenue = df.gross - df.budget)\n",
        "\n",
        "df = df.assign(percentage_profit = df.revenue / df.gross * 100)\n",
        "\n",
        "df"
      ],
      "metadata": {
        "id": "6uEA2FlyuikK"
      },
      "execution_count": null,
      "outputs": []
    },
    {
      "cell_type": "markdown",
      "source": [
        "##### 3. Create a new column `high_budget_movie`"
      ],
      "metadata": {
        "id": "NBbgpELTvxdK"
      }
    },
    {
      "cell_type": "code",
      "source": [
        "import pandas as pd\n",
        "\n",
        "df = pd.read_csv(\"movies.csv\")\n",
        "\n",
        "df['high_budget_movie'] = df['budget'] > 100000000\n",
        "\n",
        "df"
      ],
      "metadata": {
        "id": "3lLqsltvvx2q"
      },
      "execution_count": null,
      "outputs": []
    },
    {
      "cell_type": "markdown",
      "source": [
        "##### 4. Create a new column `successful_movie`"
      ],
      "metadata": {
        "id": "BOyfIvOP28HE"
      }
    },
    {
      "cell_type": "code",
      "source": [
        "import pandas as pd\n",
        "\n",
        "df = pd.read_csv(\"movies.csv\")\n",
        "\n",
        "df = df.assign(revenue = df.gross - df.budget)\n",
        "\n",
        "df = df.assign(percentage_profit = df.revenue / df.gross * 100)\n",
        "\n",
        "df['successful_movie'] = df['percentage_profit'] > 50\n",
        "\n",
        "df"
      ],
      "metadata": {
        "id": "jCe7GUj72-EU"
      },
      "execution_count": null,
      "outputs": []
    },
    {
      "cell_type": "markdown",
      "source": [
        "##### 5. High-Rated Movies"
      ],
      "metadata": {
        "id": "_DfJuulq30J1"
      }
    },
    {
      "cell_type": "code",
      "source": [
        "import pandas as pd\n",
        "\n",
        "df = pd.read_csv(\"movies.csv\")\n",
        "\n",
        "df = df.assign(revenue = df.gross - df.budget)\n",
        "\n",
        "df = df.assign(percentage_profit = df.revenue / df.gross * 100)\n",
        "\n",
        "df['successful_movie'] = df['percentage_profit'] > 50\n",
        "\n",
        "df['high_rated_movie'] = df['score'] > 8\n",
        "\n",
        "df"
      ],
      "metadata": {
        "id": "CUGCQGNL30xd"
      },
      "execution_count": null,
      "outputs": []
    },
    {
      "cell_type": "markdown",
      "source": [
        "##### 6. Create a new column `is_new_release`"
      ],
      "metadata": {
        "id": "KnDCoOsG5Fqn"
      }
    },
    {
      "cell_type": "code",
      "source": [
        "import pandas as pd\n",
        "\n",
        "df = pd.read_csv(\"movies.csv\")\n",
        "\n",
        "df = df.assign(revenue = df.gross - df.budget)\n",
        "\n",
        "df = df.assign(percentage_profit = df.revenue / df.gross * 100)\n",
        "\n",
        "df['successful_movie'] = df['percentage_profit'] > 50\n",
        "\n",
        "df['high_rated_movie'] = df['score'] > 8\n",
        "\n",
        "df['is_new_release'] = df['year'] > 2020\n",
        "\n",
        "df"
      ],
      "metadata": {
        "id": "sjgLpKzl5GB3"
      },
      "execution_count": null,
      "outputs": []
    },
    {
      "cell_type": "markdown",
      "source": [
        "##### 7. Create a new column `is_long_movie`"
      ],
      "metadata": {
        "id": "dzT3xCPJ5Liv"
      }
    },
    {
      "cell_type": "code",
      "source": [
        "import pandas as pd\n",
        "\n",
        "df = pd.read_csv(\"movies.csv\")\n",
        "\n",
        "df = df.assign(revenue = df.gross - df.budget)\n",
        "\n",
        "df = df.assign(percentage_profit = df.revenue / df.gross * 100)\n",
        "\n",
        "df['successful_movie'] = df['percentage_profit'] > 50\n",
        "\n",
        "df['high_rated_movie'] = df['score'] > 8\n",
        "\n",
        "df['is_new_release'] = df['year'] > 2020\n",
        "\n",
        "df['is_long_movie'] = df['runtime'] > 150\n",
        "\n",
        "\n",
        "df"
      ],
      "metadata": {
        "id": "yyRL-IEw5L6n"
      },
      "execution_count": null,
      "outputs": []
    },
    {
      "cell_type": "markdown",
      "source": [
        "##### 8. Drop unsuccessful movie."
      ],
      "metadata": {
        "id": "3wWrPFNXNdEC"
      }
    },
    {
      "cell_type": "code",
      "source": [
        "import pandas as pd\n",
        "\n",
        "df = pd.read_csv(\"movies.csv\")\n",
        "\n",
        "df = df.assign(revenue = df.gross - df.budget)\n",
        "\n",
        "df = df.assign(percentage_profit = df.revenue / df.gross * 100)\n",
        "\n",
        "df['high_budget_movie'] = df['budget'] > 100000000\n",
        "\n",
        "df['successful_movie'] = df['percentage_profit'] > 50\n",
        "\n",
        "df['high_rated_movie'] = df['score'] > 8\n",
        "\n",
        "df['is_new_release'] = df['year'] > 2020\n",
        "\n",
        "df['is_long_movie'] = df['runtime'] > 150\n",
        "\n",
        "indices_to_drop = df[~df['successful_movie']].index\n",
        "df.drop(indices_to_drop, inplace=True)\n",
        "\n",
        "\n",
        "df"
      ],
      "metadata": {
        "id": "qZjN8XseNffp"
      },
      "execution_count": null,
      "outputs": []
    },
    {
      "cell_type": "markdown",
      "source": [
        "##### 9. Drop high budget movie."
      ],
      "metadata": {
        "id": "F_hxfhfhOQ7w"
      }
    },
    {
      "cell_type": "code",
      "source": [
        "import pandas as pd\n",
        "\n",
        "df = pd.read_csv(\"movies.csv\")\n",
        "\n",
        "df = df.assign(revenue = df.gross - df.budget)\n",
        "\n",
        "df = df.assign(percentage_profit = df.revenue / df.gross * 100)\n",
        "\n",
        "df['high_budget_movie'] = df['budget'] > 100000000\n",
        "\n",
        "df['successful_movie'] = df['percentage_profit'] > 50\n",
        "\n",
        "df['high_rated_movie'] = df['score'] > 8\n",
        "\n",
        "df['is_new_release'] = df['year'] > 2020\n",
        "\n",
        "df['is_long_movie'] = df['runtime'] > 150\n",
        "\n",
        "indices_to_drop = df[~df['successful_movie']].index\n",
        "df.drop(indices_to_drop, inplace=True)\n",
        "\n",
        "low_budget_df = df[df['budget'] <= 100000000]\n",
        "\n",
        "df"
      ],
      "metadata": {
        "id": "aXJGlad5ORYp"
      },
      "execution_count": null,
      "outputs": []
    },
    {
      "cell_type": "markdown",
      "source": [
        "##### 10. Removing Low-Voted Movies"
      ],
      "metadata": {
        "id": "yOIyrsW9fyTZ"
      }
    },
    {
      "cell_type": "code",
      "source": [
        "import pandas as pd\n",
        "\n",
        "df = pd.read_csv(\"movies.csv\")\n",
        "\n",
        "df = df.assign(revenue = df.gross - df.budget)\n",
        "\n",
        "df = df.assign(percentage_profit = df.revenue / df.gross * 100)\n",
        "\n",
        "df['high_budget_movie'] = df['budget'] > 100000000\n",
        "\n",
        "df['successful_movie'] = df['percentage_profit'] > 50\n",
        "\n",
        "df['high_rated_movie'] = df['score'] > 8\n",
        "\n",
        "df['is_new_release'] = df['year'] > 2020\n",
        "\n",
        "df['is_long_movie'] = df['runtime'] > 150\n",
        "\n",
        "indices_to_drop = df[~df['successful_movie']].index\n",
        "df.drop(indices_to_drop, inplace=True)\n",
        "\n",
        "low_budget_df = df[df['budget'] <= 100000000]\n",
        "\n",
        "high_voted_df = df[df['votes'] >= 1000]\n",
        "\n",
        "df"
      ],
      "metadata": {
        "id": "4U7UyY9Ufynh"
      },
      "execution_count": null,
      "outputs": []
    },
    {
      "cell_type": "markdown",
      "source": [
        "##### 11. Drop the column `budget`"
      ],
      "metadata": {
        "id": "5eq-_M2ZgG5R"
      }
    },
    {
      "cell_type": "code",
      "source": [
        "import pandas as pd\n",
        "\n",
        "df = pd.read_csv(\"movies.csv\")\n",
        "\n",
        "df = df.assign(revenue = df.gross - df.budget)\n",
        "\n",
        "df = df.assign(percentage_profit = df.revenue / df.gross * 100)\n",
        "\n",
        "df['high_budget_movie'] = df['budget'] > 100000000\n",
        "\n",
        "df['successful_movie'] = df['percentage_profit'] > 50\n",
        "\n",
        "df['high_rated_movie'] = df['score'] > 8\n",
        "\n",
        "df['is_new_release'] = df['year'] > 2020\n",
        "\n",
        "df['is_long_movie'] = df['runtime'] > 150\n",
        "\n",
        "indices_to_drop = df[~df['successful_movie']].index\n",
        "df.drop(indices_to_drop, inplace=True)\n",
        "\n",
        "low_budget_df = df[df['budget'] <= 100000000]\n",
        "\n",
        "high_voted_df = df[df['votes'] >= 1000]\n",
        "\n",
        "df.drop('budget', axis=1, inplace=True)\n",
        "\n",
        "\n",
        "df"
      ],
      "metadata": {
        "id": "UkV0Af2lgHHS"
      },
      "execution_count": null,
      "outputs": []
    },
    {
      "cell_type": "markdown",
      "source": [
        "##### 12. Drop the `director` and `writer` columns from the dataframe."
      ],
      "metadata": {
        "id": "RtDKnKcxgxwp"
      }
    },
    {
      "cell_type": "code",
      "source": [
        "import pandas as pd\n",
        "\n",
        "df = pd.read_csv(\"movies.csv\")\n",
        "\n",
        "df = df.assign(revenue = df.gross - df.budget)\n",
        "\n",
        "df = df.assign(percentage_profit = df.revenue / df.gross * 100)\n",
        "\n",
        "df['high_budget_movie'] = df['budget'] > 100000000\n",
        "\n",
        "df['successful_movie'] = df['percentage_profit'] > 50\n",
        "\n",
        "df['high_rated_movie'] = df['score'] > 8\n",
        "\n",
        "df['is_new_release'] = df['year'] > 2020\n",
        "\n",
        "df['is_long_movie'] = df['runtime'] > 150\n",
        "\n",
        "indices_to_drop = df[~df['successful_movie']].index\n",
        "df.drop(indices_to_drop, inplace=True)\n",
        "\n",
        "low_budget_df = df[df['budget'] <= 100000000]\n",
        "\n",
        "high_voted_df = df[df['votes'] >= 1000]\n",
        "\n",
        "df.drop('budget', axis=1, inplace=True)\n",
        "\n",
        "columns_to_drop = ['director', 'writer']\n",
        "\n",
        "new_df = df.drop(columns_to_drop, axis=1, inplace=False)\n",
        "\n",
        "df"
      ],
      "metadata": {
        "id": "OBIiDH_ihbsa"
      },
      "execution_count": null,
      "outputs": []
    },
    {
      "cell_type": "markdown",
      "source": [
        "##### 13. Drop Out Low-Rated and Low-Voted Movies"
      ],
      "metadata": {
        "id": "WzM5-Bj8k33J"
      }
    },
    {
      "cell_type": "code",
      "source": [
        "import pandas as pd\n",
        "\n",
        "df = pd.read_csv(\"movies.csv\")\n",
        "\n",
        "df = df.assign(revenue = df.gross - df.budget)\n",
        "\n",
        "df = df.assign(percentage_profit = df.revenue / df.gross * 100)\n",
        "\n",
        "df['high_budget_movie'] = df['budget'] > 100000000\n",
        "\n",
        "df['successful_movie'] = df['percentage_profit'] > 50\n",
        "\n",
        "df['high_rated_movie'] = df['score'] > 8\n",
        "\n",
        "df['is_new_release'] = df['year'] > 2020\n",
        "\n",
        "df['is_long_movie'] = df['runtime'] > 150\n",
        "\n",
        "indices_to_drop = df[~df['successful_movie']].index\n",
        "df.drop(indices_to_drop, inplace=True)\n",
        "\n",
        "low_budget_df = df[df['budget'] <= 100000000]\n",
        "\n",
        "high_voted_df = df[df['votes'] >= 1000]\n",
        "\n",
        "df.drop('budget', axis=1, inplace=True)\n",
        "\n",
        "columns_to_drop = ['director', 'writer']\n",
        "\n",
        "new_df = df.drop(columns_to_drop, axis=1, inplace=False)\n",
        "\n",
        "filtered_df = df[(df['score'] < 5) & (df['votes'] < 1000)]\n",
        "\n",
        "df.drop(filtered_df.index, inplace=True)\n",
        "\n",
        "\n",
        "df"
      ],
      "metadata": {
        "id": "j5w6_pUXk4S_"
      },
      "execution_count": null,
      "outputs": []
    },
    {
      "cell_type": "markdown",
      "source": [
        "##### 14. Top High-Rated Movies"
      ],
      "metadata": {
        "id": "e1YREDLvlOCO"
      }
    },
    {
      "cell_type": "code",
      "source": [
        "import pandas as pd\n",
        "\n",
        "df = pd.read_csv(\"movies.csv\")\n",
        "\n",
        "df = df.assign(revenue = df.gross - df.budget)\n",
        "\n",
        "df = df.assign(percentage_profit = df.revenue / df.gross * 100)\n",
        "\n",
        "df['high_budget_movie'] = df['budget'] > 100000000\n",
        "\n",
        "df['successful_movie'] = df['percentage_profit'] > 50\n",
        "\n",
        "df['high_rated_movie'] = df['score'] > 8\n",
        "\n",
        "df['is_new_release'] = df['year'] > 2020\n",
        "\n",
        "df['is_long_movie'] = df['runtime'] > 150\n",
        "\n",
        "indices_to_drop = df[~df['successful_movie']].index\n",
        "df.drop(indices_to_drop, inplace=True)\n",
        "\n",
        "low_budget_df = df[df['budget'] <= 100000000]\n",
        "\n",
        "high_voted_df = df[df['votes'] >= 1000]\n",
        "\n",
        "df.drop('budget', axis=1, inplace=True)\n",
        "\n",
        "columns_to_drop = ['director', 'writer']\n",
        "\n",
        "new_df = df.drop(columns_to_drop, axis=1, inplace=False)\n",
        "\n",
        "filtered_df = df[(df['score'] < 5) & (df['votes'] < 1000)]\n",
        "\n",
        "df.drop(filtered_df.index, inplace=True)\n",
        "\n",
        "sorted_df = df.sort_values(by='score', ascending=False)\n",
        "\n",
        "top_rated_movies = sorted_df.head(5)\n",
        "\n",
        "\n",
        "df"
      ],
      "metadata": {
        "id": "euXbTNNAlQuA"
      },
      "execution_count": null,
      "outputs": []
    },
    {
      "cell_type": "markdown",
      "source": [
        "##### 15. Removing Specific Rows"
      ],
      "metadata": {
        "id": "VIEWpUwsl3gG"
      }
    },
    {
      "cell_type": "code",
      "source": [
        "import pandas as pd\n",
        "\n",
        "df = pd.read_csv(\"movies.csv\")\n",
        "\n",
        "df = df.assign(revenue = df.gross - df.budget)\n",
        "\n",
        "df = df.assign(percentage_profit = df.revenue / df.gross * 100)\n",
        "\n",
        "df['high_budget_movie'] = df['budget'] > 100000000\n",
        "\n",
        "df['successful_movie'] = df['percentage_profit'] > 50\n",
        "\n",
        "df['high_rated_movie'] = df['score'] > 8\n",
        "\n",
        "df['is_new_release'] = df['year'] > 2020\n",
        "\n",
        "df['is_long_movie'] = df['runtime'] > 150\n",
        "\n",
        "indices_to_drop = df[~df['successful_movie']].index\n",
        "df.drop(indices_to_drop, inplace=True)\n",
        "\n",
        "low_budget_df = df[df['budget'] <= 100000000]\n",
        "\n",
        "high_voted_df = df[df['votes'] >= 1000]\n",
        "\n",
        "df.drop('budget', axis=1, inplace=True)\n",
        "\n",
        "columns_to_drop = ['director', 'writer']\n",
        "\n",
        "new_df = df.drop(columns_to_drop, axis=1, inplace=False)\n",
        "\n",
        "filtered_df = df[(df['score'] < 5) & (df['votes'] < 1000)]\n",
        "\n",
        "df.drop(filtered_df.index, inplace=True)\n",
        "\n",
        "sorted_df = df.sort_values(by='score', ascending=False)\n",
        "\n",
        "top_rated_movies = sorted_df.head(5)\n",
        "\n",
        "df = df.drop([2, 10])\n",
        "\n",
        "df"
      ],
      "metadata": {
        "id": "oHzpqSq4l5vv"
      },
      "execution_count": null,
      "outputs": []
    },
    {
      "cell_type": "markdown",
      "source": [
        "##### 16. Sci-Fi Blockbusters"
      ],
      "metadata": {
        "id": "BVRojd8boDwP"
      }
    },
    {
      "cell_type": "code",
      "source": [
        "import pandas as pd\n",
        "\n",
        "df = pd.read_csv(\"movies.csv\")\n",
        "\n",
        "df = df.assign(revenue = df.gross - df.budget)\n",
        "\n",
        "df = df.assign(percentage_profit = df.revenue / df.gross * 100)\n",
        "\n",
        "df['high_budget_movie'] = df['budget'] > 100000000\n",
        "\n",
        "df['successful_movie'] = df['percentage_profit'] > 50\n",
        "\n",
        "df['high_rated_movie'] = df['score'] > 8\n",
        "\n",
        "df['is_new_release'] = df['year'] > 2020\n",
        "\n",
        "df['is_long_movie'] = df['runtime'] > 150\n",
        "\n",
        "indices_to_drop = df[~df['successful_movie']].index\n",
        "df.drop(indices_to_drop, inplace=True)\n",
        "\n",
        "low_budget_df = df[df['budget'] <= 100000000]\n",
        "\n",
        "high_voted_df = df[df['votes'] >= 1000]\n",
        "\n",
        "df.drop('budget', axis=1, inplace=True)\n",
        "\n",
        "columns_to_drop = ['director', 'writer']\n",
        "\n",
        "new_df = df.drop(columns_to_drop, axis=1, inplace=False)\n",
        "\n",
        "filtered_df = df[(df['score'] < 5) & (df['votes'] < 1000)]\n",
        "\n",
        "df.drop(filtered_df.index, inplace=True)\n",
        "\n",
        "sorted_df = df.sort_values(by='score', ascending=False)\n",
        "\n",
        "top_rated_movies = sorted_df.head(5)\n",
        "\n",
        "df = df.drop([2, 10])\n",
        "\n",
        "sci_fi_blockbusters = df[(df['genre'] == 'Sci-Fi') & (df['gross'] > 150000000)]\n",
        "\n",
        "df"
      ],
      "metadata": {
        "id": "S3m4ODyUoEaf"
      },
      "execution_count": null,
      "outputs": []
    },
    {
      "cell_type": "markdown",
      "source": [
        "##### 17. Age of Movies"
      ],
      "metadata": {
        "id": "zmZRkx1UoJrH"
      }
    },
    {
      "cell_type": "code",
      "source": [
        "import pandas as pd\n",
        "\n",
        "df = pd.read_csv(\"movies.csv\")\n",
        "\n",
        "df = df.assign(revenue = df.gross - df.budget)\n",
        "\n",
        "df = df.assign(percentage_profit = df.revenue / df.gross * 100)\n",
        "\n",
        "df['high_budget_movie'] = df['budget'] > 100000000\n",
        "\n",
        "df['successful_movie'] = df['percentage_profit'] > 50\n",
        "\n",
        "df['high_rated_movie'] = df['score'] > 8\n",
        "\n",
        "df['is_new_release'] = df['year'] > 2020\n",
        "\n",
        "df['is_long_movie'] = df['runtime'] > 150\n",
        "\n",
        "indices_to_drop = df[~df['successful_movie']].index\n",
        "df.drop(indices_to_drop, inplace=True)\n",
        "\n",
        "low_budget_df = df[df['budget'] <= 100000000]\n",
        "\n",
        "high_voted_df = df[df['votes'] >= 1000]\n",
        "\n",
        "df.drop('budget', axis=1, inplace=True)\n",
        "\n",
        "columns_to_drop = ['director', 'writer']\n",
        "\n",
        "new_df = df.drop(columns_to_drop, axis=1, inplace=False)\n",
        "\n",
        "filtered_df = df[(df['score'] < 5) & (df['votes'] < 1000)]\n",
        "\n",
        "df.drop(filtered_df.index, inplace=True)\n",
        "\n",
        "sorted_df = df.sort_values(by='score', ascending=False)\n",
        "\n",
        "top_rated_movies = sorted_df.head(5)\n",
        "\n",
        "df = df.drop([2, 10])\n",
        "\n",
        "sci_fi_blockbusters = df[(df['genre'] == 'Sci-Fi') & (df['gross'] > 150000000)]\n",
        "\n",
        "df['age'] = 2023 - df['year']\n",
        "\n",
        "\n",
        "df"
      ],
      "metadata": {
        "id": "Jw7x0UtqoJ63"
      },
      "execution_count": null,
      "outputs": []
    },
    {
      "cell_type": "markdown",
      "source": [
        "##### 18. Movies Released in Summer"
      ],
      "metadata": {
        "id": "ZqpcLRQNIZnc"
      }
    },
    {
      "cell_type": "code",
      "source": [
        "import pandas as pd\n",
        "\n",
        "df = pd.read_csv(\"movies.csv\")\n",
        "\n",
        "df = df.assign(revenue = df.gross - df.budget)\n",
        "\n",
        "df = df.assign(percentage_profit = df.revenue / df.gross * 100)\n",
        "\n",
        "df['high_budget_movie'] = df['budget'] > 100000000\n",
        "\n",
        "df['successful_movie'] = df['percentage_profit'] > 50\n",
        "\n",
        "df['high_rated_movie'] = df['score'] > 8\n",
        "\n",
        "df['is_new_release'] = df['year'] > 2020\n",
        "\n",
        "df['is_long_movie'] = df['runtime'] > 150\n",
        "\n",
        "indices_to_drop = df[~df['successful_movie']].index\n",
        "df.drop(indices_to_drop, inplace=True)\n",
        "\n",
        "low_budget_df = df[df['budget'] <= 100000000]\n",
        "\n",
        "high_voted_df = df[df['votes'] >= 1000]\n",
        "\n",
        "df.drop('budget', axis=1, inplace=True)\n",
        "\n",
        "columns_to_drop = ['director', 'writer']\n",
        "\n",
        "new_df = df.drop(columns_to_drop, axis=1, inplace=False)\n",
        "\n",
        "filtered_df = df[(df['score'] < 5) & (df['votes'] < 1000)]\n",
        "\n",
        "df.drop(filtered_df.index, inplace=True)\n",
        "\n",
        "sorted_df = df.sort_values(by='score', ascending=False)\n",
        "\n",
        "top_rated_movies = sorted_df.head(5)\n",
        "\n",
        "df = df.drop([2, 10])\n",
        "\n",
        "sci_fi_blockbusters = df[(df['genre'] == 'Sci-Fi') & (df['gross'] > 150000000)]\n",
        "\n",
        "df['age'] = 2023 - df['year']\n",
        "\n",
        "summer_movies =df[df['released'].str.contains('June|July|August')]\n",
        "\n",
        "summer_movies"
      ],
      "metadata": {
        "id": "D0V97YEHIbFu"
      },
      "execution_count": null,
      "outputs": []
    }
  ]
}