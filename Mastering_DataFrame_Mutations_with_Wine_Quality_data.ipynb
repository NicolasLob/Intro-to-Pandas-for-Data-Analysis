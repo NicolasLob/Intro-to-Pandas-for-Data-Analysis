{
  "nbformat": 4,
  "nbformat_minor": 0,
  "metadata": {
    "colab": {
      "provenance": [],
      "authorship_tag": "ABX9TyOAnifDX/5HZcjbcXXhnGd8",
      "include_colab_link": true
    },
    "kernelspec": {
      "name": "python3",
      "display_name": "Python 3"
    },
    "language_info": {
      "name": "python"
    }
  },
  "cells": [
    {
      "cell_type": "markdown",
      "metadata": {
        "id": "view-in-github",
        "colab_type": "text"
      },
      "source": [
        "<a href=\"https://colab.research.google.com/github/NicolasLob/Intro-to-Pandas-for-Data-Analysis/blob/main/Mastering_DataFrame_Mutations_with_Wine_Quality_data.ipynb\" target=\"_parent\"><img src=\"https://colab.research.google.com/assets/colab-badge.svg\" alt=\"Open In Colab\"/></a>"
      ]
    },
    {
      "cell_type": "code",
      "source": [
        "pip install ucimlrepo"
      ],
      "metadata": {
        "colab": {
          "base_uri": "https://localhost:8080/"
        },
        "id": "WyyJxUXPYBIH",
        "outputId": "eb89c79a-ea00-4b29-8564-09de74e4323b"
      },
      "execution_count": 1,
      "outputs": [
        {
          "output_type": "stream",
          "name": "stdout",
          "text": [
            "Collecting ucimlrepo\n",
            "  Downloading ucimlrepo-0.0.3-py3-none-any.whl (7.0 kB)\n",
            "Installing collected packages: ucimlrepo\n",
            "Successfully installed ucimlrepo-0.0.3\n"
          ]
        }
      ]
    },
    {
      "cell_type": "code",
      "source": [
        "from ucimlrepo import fetch_ucirepo\n",
        "\n",
        "# fetch dataset\n",
        "wine_quality = fetch_ucirepo(id=186)\n",
        "\n",
        "# data (as pandas dataframes)\n",
        "X = wine_quality.data.features\n",
        "y = wine_quality.data.targets\n",
        "\n",
        "# metadata\n",
        "print(wine_quality.metadata)\n",
        "\n",
        "# variable information\n",
        "print(wine_quality.variables)\n"
      ],
      "metadata": {
        "colab": {
          "base_uri": "https://localhost:8080/"
        },
        "id": "2gj9EHCMYIBw",
        "outputId": "a087a4ff-ddaf-417a-8194-382c83968f51"
      },
      "execution_count": 2,
      "outputs": [
        {
          "output_type": "stream",
          "name": "stdout",
          "text": [
            "{'uci_id': 186, 'name': 'Wine Quality', 'repository_url': 'https://archive.ics.uci.edu/dataset/186/wine+quality', 'data_url': 'https://archive.ics.uci.edu/static/public/186/data.csv', 'abstract': 'Two datasets are included, related to red and white vinho verde wine samples, from the north of Portugal. The goal is to model wine quality based on physicochemical tests (see [Cortez et al., 2009], http://www3.dsi.uminho.pt/pcortez/wine/).', 'area': 'Business', 'tasks': ['Classification', 'Regression'], 'characteristics': ['Multivariate'], 'num_instances': 4898, 'num_features': 11, 'feature_types': ['Real'], 'demographics': [], 'target_col': ['quality'], 'index_col': None, 'has_missing_values': 'no', 'missing_values_symbol': None, 'year_of_dataset_creation': 2009, 'last_updated': 'Wed Nov 15 2023', 'dataset_doi': '10.24432/C56S3T', 'creators': ['Paulo Cortez', 'A. Cerdeira', 'F. Almeida', 'T. Matos', 'J. Reis'], 'intro_paper': {'title': 'Modeling wine preferences by data mining from physicochemical properties', 'authors': 'P. Cortez, A. Cerdeira, Fernando Almeida, Telmo Matos, J. Reis', 'published_in': 'Decision Support Systems', 'year': 2009, 'url': 'https://www.semanticscholar.org/paper/Modeling-wine-preferences-by-data-mining-from-Cortez-Cerdeira/bf15a0ccc14ac1deb5cea570c870389c16be019c', 'doi': None}, 'additional_info': {'summary': 'The two datasets are related to red and white variants of the Portuguese \"Vinho Verde\" wine. For more details, consult: http://www.vinhoverde.pt/en/ or the reference [Cortez et al., 2009].  Due to privacy and logistic issues, only physicochemical (inputs) and sensory (the output) variables are available (e.g. there is no data about grape types, wine brand, wine selling price, etc.).\\n\\nThese datasets can be viewed as classification or regression tasks.  The classes are ordered and not balanced (e.g. there are many more normal wines than excellent or poor ones). Outlier detection algorithms could be used to detect the few excellent or poor wines. Also, we are not sure if all input variables are relevant. So it could be interesting to test feature selection methods.\\n', 'purpose': None, 'funded_by': None, 'instances_represent': None, 'recommended_data_splits': None, 'sensitive_data': None, 'preprocessing_description': None, 'variable_info': 'For more information, read [Cortez et al., 2009].\\r\\nInput variables (based on physicochemical tests):\\r\\n   1 - fixed acidity\\r\\n   2 - volatile acidity\\r\\n   3 - citric acid\\r\\n   4 - residual sugar\\r\\n   5 - chlorides\\r\\n   6 - free sulfur dioxide\\r\\n   7 - total sulfur dioxide\\r\\n   8 - density\\r\\n   9 - pH\\r\\n   10 - sulphates\\r\\n   11 - alcohol\\r\\nOutput variable (based on sensory data): \\r\\n   12 - quality (score between 0 and 10)', 'citation': None}}\n",
            "                    name     role         type demographic  \\\n",
            "0          fixed_acidity  Feature   Continuous        None   \n",
            "1       volatile_acidity  Feature   Continuous        None   \n",
            "2            citric_acid  Feature   Continuous        None   \n",
            "3         residual_sugar  Feature   Continuous        None   \n",
            "4              chlorides  Feature   Continuous        None   \n",
            "5    free_sulfur_dioxide  Feature   Continuous        None   \n",
            "6   total_sulfur_dioxide  Feature   Continuous        None   \n",
            "7                density  Feature   Continuous        None   \n",
            "8                     pH  Feature   Continuous        None   \n",
            "9              sulphates  Feature   Continuous        None   \n",
            "10               alcohol  Feature   Continuous        None   \n",
            "11               quality   Target      Integer        None   \n",
            "12                 color    Other  Categorical        None   \n",
            "\n",
            "               description units missing_values  \n",
            "0                     None  None             no  \n",
            "1                     None  None             no  \n",
            "2                     None  None             no  \n",
            "3                     None  None             no  \n",
            "4                     None  None             no  \n",
            "5                     None  None             no  \n",
            "6                     None  None             no  \n",
            "7                     None  None             no  \n",
            "8                     None  None             no  \n",
            "9                     None  None             no  \n",
            "10                    None  None             no  \n",
            "11  score between 0 and 10  None             no  \n",
            "12            red or white  None             no  \n"
          ]
        }
      ]
    },
    {
      "cell_type": "code",
      "source": [
        "import pandas as pd\n",
        "import numpy as np"
      ],
      "metadata": {
        "id": "SQCi6pZkXxvQ"
      },
      "execution_count": null,
      "outputs": []
    },
    {
      "cell_type": "markdown",
      "source": [
        "# Basic Analysis"
      ],
      "metadata": {
        "id": "sISdJHHsXy_H"
      }
    },
    {
      "cell_type": "code",
      "source": [
        "import pandas as pd\n",
        "import numpy as np\n",
        "wine_quality_df = pd.read_csv('https://archive.ics.uci.edu/static/public/186/data.csv', sep= ',')\n",
        "wine_quality_df.describe()"
      ],
      "metadata": {
        "colab": {
          "base_uri": "https://localhost:8080/",
          "height": 320
        },
        "id": "ULovNFUcX0xX",
        "outputId": "df3d718d-8e31-4cd6-fa58-0ac6c7c79454"
      },
      "execution_count": 8,
      "outputs": [
        {
          "output_type": "execute_result",
          "data": {
            "text/plain": [
              "       fixed_acidity  volatile_acidity  citric_acid  residual_sugar  \\\n",
              "count    6497.000000       6497.000000  6497.000000     6497.000000   \n",
              "mean        7.215307          0.339666     0.318633        5.443235   \n",
              "std         1.296434          0.164636     0.145318        4.757804   \n",
              "min         3.800000          0.080000     0.000000        0.600000   \n",
              "25%         6.400000          0.230000     0.250000        1.800000   \n",
              "50%         7.000000          0.290000     0.310000        3.000000   \n",
              "75%         7.700000          0.400000     0.390000        8.100000   \n",
              "max        15.900000          1.580000     1.660000       65.800000   \n",
              "\n",
              "         chlorides  free_sulfur_dioxide  total_sulfur_dioxide      density  \\\n",
              "count  6497.000000          6497.000000           6497.000000  6497.000000   \n",
              "mean      0.056034            30.525319            115.744574     0.994697   \n",
              "std       0.035034            17.749400             56.521855     0.002999   \n",
              "min       0.009000             1.000000              6.000000     0.987110   \n",
              "25%       0.038000            17.000000             77.000000     0.992340   \n",
              "50%       0.047000            29.000000            118.000000     0.994890   \n",
              "75%       0.065000            41.000000            156.000000     0.996990   \n",
              "max       0.611000           289.000000            440.000000     1.038980   \n",
              "\n",
              "                pH    sulphates      alcohol      quality  \n",
              "count  6497.000000  6497.000000  6497.000000  6497.000000  \n",
              "mean      3.218501     0.531268    10.491801     5.818378  \n",
              "std       0.160787     0.148806     1.192712     0.873255  \n",
              "min       2.720000     0.220000     8.000000     3.000000  \n",
              "25%       3.110000     0.430000     9.500000     5.000000  \n",
              "50%       3.210000     0.510000    10.300000     6.000000  \n",
              "75%       3.320000     0.600000    11.300000     6.000000  \n",
              "max       4.010000     2.000000    14.900000     9.000000  "
            ],
            "text/html": [
              "\n",
              "  <div id=\"df-cc6422b6-d00c-4791-8666-017820f8e4de\" class=\"colab-df-container\">\n",
              "    <div>\n",
              "<style scoped>\n",
              "    .dataframe tbody tr th:only-of-type {\n",
              "        vertical-align: middle;\n",
              "    }\n",
              "\n",
              "    .dataframe tbody tr th {\n",
              "        vertical-align: top;\n",
              "    }\n",
              "\n",
              "    .dataframe thead th {\n",
              "        text-align: right;\n",
              "    }\n",
              "</style>\n",
              "<table border=\"1\" class=\"dataframe\">\n",
              "  <thead>\n",
              "    <tr style=\"text-align: right;\">\n",
              "      <th></th>\n",
              "      <th>fixed_acidity</th>\n",
              "      <th>volatile_acidity</th>\n",
              "      <th>citric_acid</th>\n",
              "      <th>residual_sugar</th>\n",
              "      <th>chlorides</th>\n",
              "      <th>free_sulfur_dioxide</th>\n",
              "      <th>total_sulfur_dioxide</th>\n",
              "      <th>density</th>\n",
              "      <th>pH</th>\n",
              "      <th>sulphates</th>\n",
              "      <th>alcohol</th>\n",
              "      <th>quality</th>\n",
              "    </tr>\n",
              "  </thead>\n",
              "  <tbody>\n",
              "    <tr>\n",
              "      <th>count</th>\n",
              "      <td>6497.000000</td>\n",
              "      <td>6497.000000</td>\n",
              "      <td>6497.000000</td>\n",
              "      <td>6497.000000</td>\n",
              "      <td>6497.000000</td>\n",
              "      <td>6497.000000</td>\n",
              "      <td>6497.000000</td>\n",
              "      <td>6497.000000</td>\n",
              "      <td>6497.000000</td>\n",
              "      <td>6497.000000</td>\n",
              "      <td>6497.000000</td>\n",
              "      <td>6497.000000</td>\n",
              "    </tr>\n",
              "    <tr>\n",
              "      <th>mean</th>\n",
              "      <td>7.215307</td>\n",
              "      <td>0.339666</td>\n",
              "      <td>0.318633</td>\n",
              "      <td>5.443235</td>\n",
              "      <td>0.056034</td>\n",
              "      <td>30.525319</td>\n",
              "      <td>115.744574</td>\n",
              "      <td>0.994697</td>\n",
              "      <td>3.218501</td>\n",
              "      <td>0.531268</td>\n",
              "      <td>10.491801</td>\n",
              "      <td>5.818378</td>\n",
              "    </tr>\n",
              "    <tr>\n",
              "      <th>std</th>\n",
              "      <td>1.296434</td>\n",
              "      <td>0.164636</td>\n",
              "      <td>0.145318</td>\n",
              "      <td>4.757804</td>\n",
              "      <td>0.035034</td>\n",
              "      <td>17.749400</td>\n",
              "      <td>56.521855</td>\n",
              "      <td>0.002999</td>\n",
              "      <td>0.160787</td>\n",
              "      <td>0.148806</td>\n",
              "      <td>1.192712</td>\n",
              "      <td>0.873255</td>\n",
              "    </tr>\n",
              "    <tr>\n",
              "      <th>min</th>\n",
              "      <td>3.800000</td>\n",
              "      <td>0.080000</td>\n",
              "      <td>0.000000</td>\n",
              "      <td>0.600000</td>\n",
              "      <td>0.009000</td>\n",
              "      <td>1.000000</td>\n",
              "      <td>6.000000</td>\n",
              "      <td>0.987110</td>\n",
              "      <td>2.720000</td>\n",
              "      <td>0.220000</td>\n",
              "      <td>8.000000</td>\n",
              "      <td>3.000000</td>\n",
              "    </tr>\n",
              "    <tr>\n",
              "      <th>25%</th>\n",
              "      <td>6.400000</td>\n",
              "      <td>0.230000</td>\n",
              "      <td>0.250000</td>\n",
              "      <td>1.800000</td>\n",
              "      <td>0.038000</td>\n",
              "      <td>17.000000</td>\n",
              "      <td>77.000000</td>\n",
              "      <td>0.992340</td>\n",
              "      <td>3.110000</td>\n",
              "      <td>0.430000</td>\n",
              "      <td>9.500000</td>\n",
              "      <td>5.000000</td>\n",
              "    </tr>\n",
              "    <tr>\n",
              "      <th>50%</th>\n",
              "      <td>7.000000</td>\n",
              "      <td>0.290000</td>\n",
              "      <td>0.310000</td>\n",
              "      <td>3.000000</td>\n",
              "      <td>0.047000</td>\n",
              "      <td>29.000000</td>\n",
              "      <td>118.000000</td>\n",
              "      <td>0.994890</td>\n",
              "      <td>3.210000</td>\n",
              "      <td>0.510000</td>\n",
              "      <td>10.300000</td>\n",
              "      <td>6.000000</td>\n",
              "    </tr>\n",
              "    <tr>\n",
              "      <th>75%</th>\n",
              "      <td>7.700000</td>\n",
              "      <td>0.400000</td>\n",
              "      <td>0.390000</td>\n",
              "      <td>8.100000</td>\n",
              "      <td>0.065000</td>\n",
              "      <td>41.000000</td>\n",
              "      <td>156.000000</td>\n",
              "      <td>0.996990</td>\n",
              "      <td>3.320000</td>\n",
              "      <td>0.600000</td>\n",
              "      <td>11.300000</td>\n",
              "      <td>6.000000</td>\n",
              "    </tr>\n",
              "    <tr>\n",
              "      <th>max</th>\n",
              "      <td>15.900000</td>\n",
              "      <td>1.580000</td>\n",
              "      <td>1.660000</td>\n",
              "      <td>65.800000</td>\n",
              "      <td>0.611000</td>\n",
              "      <td>289.000000</td>\n",
              "      <td>440.000000</td>\n",
              "      <td>1.038980</td>\n",
              "      <td>4.010000</td>\n",
              "      <td>2.000000</td>\n",
              "      <td>14.900000</td>\n",
              "      <td>9.000000</td>\n",
              "    </tr>\n",
              "  </tbody>\n",
              "</table>\n",
              "</div>\n",
              "    <div class=\"colab-df-buttons\">\n",
              "\n",
              "  <div class=\"colab-df-container\">\n",
              "    <button class=\"colab-df-convert\" onclick=\"convertToInteractive('df-cc6422b6-d00c-4791-8666-017820f8e4de')\"\n",
              "            title=\"Convert this dataframe to an interactive table.\"\n",
              "            style=\"display:none;\">\n",
              "\n",
              "  <svg xmlns=\"http://www.w3.org/2000/svg\" height=\"24px\" viewBox=\"0 -960 960 960\">\n",
              "    <path d=\"M120-120v-720h720v720H120Zm60-500h600v-160H180v160Zm220 220h160v-160H400v160Zm0 220h160v-160H400v160ZM180-400h160v-160H180v160Zm440 0h160v-160H620v160ZM180-180h160v-160H180v160Zm440 0h160v-160H620v160Z\"/>\n",
              "  </svg>\n",
              "    </button>\n",
              "\n",
              "  <style>\n",
              "    .colab-df-container {\n",
              "      display:flex;\n",
              "      gap: 12px;\n",
              "    }\n",
              "\n",
              "    .colab-df-convert {\n",
              "      background-color: #E8F0FE;\n",
              "      border: none;\n",
              "      border-radius: 50%;\n",
              "      cursor: pointer;\n",
              "      display: none;\n",
              "      fill: #1967D2;\n",
              "      height: 32px;\n",
              "      padding: 0 0 0 0;\n",
              "      width: 32px;\n",
              "    }\n",
              "\n",
              "    .colab-df-convert:hover {\n",
              "      background-color: #E2EBFA;\n",
              "      box-shadow: 0px 1px 2px rgba(60, 64, 67, 0.3), 0px 1px 3px 1px rgba(60, 64, 67, 0.15);\n",
              "      fill: #174EA6;\n",
              "    }\n",
              "\n",
              "    .colab-df-buttons div {\n",
              "      margin-bottom: 4px;\n",
              "    }\n",
              "\n",
              "    [theme=dark] .colab-df-convert {\n",
              "      background-color: #3B4455;\n",
              "      fill: #D2E3FC;\n",
              "    }\n",
              "\n",
              "    [theme=dark] .colab-df-convert:hover {\n",
              "      background-color: #434B5C;\n",
              "      box-shadow: 0px 1px 3px 1px rgba(0, 0, 0, 0.15);\n",
              "      filter: drop-shadow(0px 1px 2px rgba(0, 0, 0, 0.3));\n",
              "      fill: #FFFFFF;\n",
              "    }\n",
              "  </style>\n",
              "\n",
              "    <script>\n",
              "      const buttonEl =\n",
              "        document.querySelector('#df-cc6422b6-d00c-4791-8666-017820f8e4de button.colab-df-convert');\n",
              "      buttonEl.style.display =\n",
              "        google.colab.kernel.accessAllowed ? 'block' : 'none';\n",
              "\n",
              "      async function convertToInteractive(key) {\n",
              "        const element = document.querySelector('#df-cc6422b6-d00c-4791-8666-017820f8e4de');\n",
              "        const dataTable =\n",
              "          await google.colab.kernel.invokeFunction('convertToInteractive',\n",
              "                                                    [key], {});\n",
              "        if (!dataTable) return;\n",
              "\n",
              "        const docLinkHtml = 'Like what you see? Visit the ' +\n",
              "          '<a target=\"_blank\" href=https://colab.research.google.com/notebooks/data_table.ipynb>data table notebook</a>'\n",
              "          + ' to learn more about interactive tables.';\n",
              "        element.innerHTML = '';\n",
              "        dataTable['output_type'] = 'display_data';\n",
              "        await google.colab.output.renderOutput(dataTable, element);\n",
              "        const docLink = document.createElement('div');\n",
              "        docLink.innerHTML = docLinkHtml;\n",
              "        element.appendChild(docLink);\n",
              "      }\n",
              "    </script>\n",
              "  </div>\n",
              "\n",
              "\n",
              "<div id=\"df-4058a1a0-6985-4674-b09b-030c596c177c\">\n",
              "  <button class=\"colab-df-quickchart\" onclick=\"quickchart('df-4058a1a0-6985-4674-b09b-030c596c177c')\"\n",
              "            title=\"Suggest charts\"\n",
              "            style=\"display:none;\">\n",
              "\n",
              "<svg xmlns=\"http://www.w3.org/2000/svg\" height=\"24px\"viewBox=\"0 0 24 24\"\n",
              "     width=\"24px\">\n",
              "    <g>\n",
              "        <path d=\"M19 3H5c-1.1 0-2 .9-2 2v14c0 1.1.9 2 2 2h14c1.1 0 2-.9 2-2V5c0-1.1-.9-2-2-2zM9 17H7v-7h2v7zm4 0h-2V7h2v10zm4 0h-2v-4h2v4z\"/>\n",
              "    </g>\n",
              "</svg>\n",
              "  </button>\n",
              "\n",
              "<style>\n",
              "  .colab-df-quickchart {\n",
              "      --bg-color: #E8F0FE;\n",
              "      --fill-color: #1967D2;\n",
              "      --hover-bg-color: #E2EBFA;\n",
              "      --hover-fill-color: #174EA6;\n",
              "      --disabled-fill-color: #AAA;\n",
              "      --disabled-bg-color: #DDD;\n",
              "  }\n",
              "\n",
              "  [theme=dark] .colab-df-quickchart {\n",
              "      --bg-color: #3B4455;\n",
              "      --fill-color: #D2E3FC;\n",
              "      --hover-bg-color: #434B5C;\n",
              "      --hover-fill-color: #FFFFFF;\n",
              "      --disabled-bg-color: #3B4455;\n",
              "      --disabled-fill-color: #666;\n",
              "  }\n",
              "\n",
              "  .colab-df-quickchart {\n",
              "    background-color: var(--bg-color);\n",
              "    border: none;\n",
              "    border-radius: 50%;\n",
              "    cursor: pointer;\n",
              "    display: none;\n",
              "    fill: var(--fill-color);\n",
              "    height: 32px;\n",
              "    padding: 0;\n",
              "    width: 32px;\n",
              "  }\n",
              "\n",
              "  .colab-df-quickchart:hover {\n",
              "    background-color: var(--hover-bg-color);\n",
              "    box-shadow: 0 1px 2px rgba(60, 64, 67, 0.3), 0 1px 3px 1px rgba(60, 64, 67, 0.15);\n",
              "    fill: var(--button-hover-fill-color);\n",
              "  }\n",
              "\n",
              "  .colab-df-quickchart-complete:disabled,\n",
              "  .colab-df-quickchart-complete:disabled:hover {\n",
              "    background-color: var(--disabled-bg-color);\n",
              "    fill: var(--disabled-fill-color);\n",
              "    box-shadow: none;\n",
              "  }\n",
              "\n",
              "  .colab-df-spinner {\n",
              "    border: 2px solid var(--fill-color);\n",
              "    border-color: transparent;\n",
              "    border-bottom-color: var(--fill-color);\n",
              "    animation:\n",
              "      spin 1s steps(1) infinite;\n",
              "  }\n",
              "\n",
              "  @keyframes spin {\n",
              "    0% {\n",
              "      border-color: transparent;\n",
              "      border-bottom-color: var(--fill-color);\n",
              "      border-left-color: var(--fill-color);\n",
              "    }\n",
              "    20% {\n",
              "      border-color: transparent;\n",
              "      border-left-color: var(--fill-color);\n",
              "      border-top-color: var(--fill-color);\n",
              "    }\n",
              "    30% {\n",
              "      border-color: transparent;\n",
              "      border-left-color: var(--fill-color);\n",
              "      border-top-color: var(--fill-color);\n",
              "      border-right-color: var(--fill-color);\n",
              "    }\n",
              "    40% {\n",
              "      border-color: transparent;\n",
              "      border-right-color: var(--fill-color);\n",
              "      border-top-color: var(--fill-color);\n",
              "    }\n",
              "    60% {\n",
              "      border-color: transparent;\n",
              "      border-right-color: var(--fill-color);\n",
              "    }\n",
              "    80% {\n",
              "      border-color: transparent;\n",
              "      border-right-color: var(--fill-color);\n",
              "      border-bottom-color: var(--fill-color);\n",
              "    }\n",
              "    90% {\n",
              "      border-color: transparent;\n",
              "      border-bottom-color: var(--fill-color);\n",
              "    }\n",
              "  }\n",
              "</style>\n",
              "\n",
              "  <script>\n",
              "    async function quickchart(key) {\n",
              "      const quickchartButtonEl =\n",
              "        document.querySelector('#' + key + ' button');\n",
              "      quickchartButtonEl.disabled = true;  // To prevent multiple clicks.\n",
              "      quickchartButtonEl.classList.add('colab-df-spinner');\n",
              "      try {\n",
              "        const charts = await google.colab.kernel.invokeFunction(\n",
              "            'suggestCharts', [key], {});\n",
              "      } catch (error) {\n",
              "        console.error('Error during call to suggestCharts:', error);\n",
              "      }\n",
              "      quickchartButtonEl.classList.remove('colab-df-spinner');\n",
              "      quickchartButtonEl.classList.add('colab-df-quickchart-complete');\n",
              "    }\n",
              "    (() => {\n",
              "      let quickchartButtonEl =\n",
              "        document.querySelector('#df-4058a1a0-6985-4674-b09b-030c596c177c button');\n",
              "      quickchartButtonEl.style.display =\n",
              "        google.colab.kernel.accessAllowed ? 'block' : 'none';\n",
              "    })();\n",
              "  </script>\n",
              "</div>\n",
              "\n",
              "    </div>\n",
              "  </div>\n"
            ],
            "application/vnd.google.colaboratory.intrinsic+json": {
              "type": "dataframe",
              "summary": "{\n  \"name\": \"wine_quality_df\",\n  \"rows\": 8,\n  \"fields\": [\n    {\n      \"column\": \"fixed_acidity\",\n      \"properties\": {\n        \"dtype\": \"number\",\n        \"std\": 2294.5495843533386,\n        \"min\": 1.2964337577998153,\n        \"max\": 6497.0,\n        \"num_unique_values\": 8,\n        \"samples\": [\n          7.215307064799139,\n          7.0,\n          6497.0\n        ],\n        \"semantic_type\": \"\",\n        \"description\": \"\"\n      }\n    },\n    {\n      \"column\": \"volatile_acidity\",\n      \"properties\": {\n        \"dtype\": \"number\",\n        \"std\": 2296.8806471221515,\n        \"min\": 0.08,\n        \"max\": 6497.0,\n        \"num_unique_values\": 8,\n        \"samples\": [\n          0.3396659996921656,\n          0.29,\n          6497.0\n        ],\n        \"semantic_type\": \"\",\n        \"description\": \"\"\n      }\n    },\n    {\n      \"column\": \"citric_acid\",\n      \"properties\": {\n        \"dtype\": \"number\",\n        \"std\": 2296.88117790051,\n        \"min\": 0.0,\n        \"max\": 6497.0,\n        \"num_unique_values\": 8,\n        \"samples\": [\n          0.3186332153301524,\n          0.31,\n          6497.0\n        ],\n        \"semantic_type\": \"\",\n        \"description\": \"\"\n      }\n    },\n    {\n      \"column\": \"residual_sugar\",\n      \"properties\": {\n        \"dtype\": \"number\",\n        \"std\": 2292.6192015521087,\n        \"min\": 0.6,\n        \"max\": 6497.0,\n        \"num_unique_values\": 8,\n        \"samples\": [\n          5.443235339387409,\n          3.0,\n          6497.0\n        ],\n        \"semantic_type\": \"\",\n        \"description\": \"\"\n      }\n    },\n    {\n      \"column\": \"chlorides\",\n      \"properties\": {\n        \"dtype\": \"number\",\n        \"std\": 2296.9928969086163,\n        \"min\": 0.009,\n        \"max\": 6497.0,\n        \"num_unique_values\": 8,\n        \"samples\": [\n          0.05603386178236109,\n          0.047,\n          6497.0\n        ],\n        \"semantic_type\": \"\",\n        \"description\": \"\"\n      }\n    },\n    {\n      \"column\": \"free_sulfur_dioxide\",\n      \"properties\": {\n        \"dtype\": \"number\",\n        \"std\": 2277.4940152153513,\n        \"min\": 1.0,\n        \"max\": 6497.0,\n        \"num_unique_values\": 8,\n        \"samples\": [\n          30.525319378174544,\n          29.0,\n          6497.0\n        ],\n        \"semantic_type\": \"\",\n        \"description\": \"\"\n      }\n    },\n    {\n      \"column\": \"total_sulfur_dioxide\",\n      \"properties\": {\n        \"dtype\": \"number\",\n        \"std\": 2251.897096356555,\n        \"min\": 6.0,\n        \"max\": 6497.0,\n        \"num_unique_values\": 8,\n        \"samples\": [\n          115.7445744189626,\n          118.0,\n          6497.0\n        ],\n        \"semantic_type\": \"\",\n        \"description\": \"\"\n      }\n    },\n    {\n      \"column\": \"density\",\n      \"properties\": {\n        \"dtype\": \"number\",\n        \"std\": 2296.732955190115,\n        \"min\": 0.0029986730037190393,\n        \"max\": 6497.0,\n        \"num_unique_values\": 8,\n        \"samples\": [\n          0.9946966338309989,\n          0.99489,\n          6497.0\n        ],\n        \"semantic_type\": \"\",\n        \"description\": \"\"\n      }\n    },\n    {\n      \"column\": \"pH\",\n      \"properties\": {\n        \"dtype\": \"number\",\n        \"std\": 2296.039173424216,\n        \"min\": 0.16078720210398764,\n        \"max\": 6497.0,\n        \"num_unique_values\": 8,\n        \"samples\": [\n          3.2185008465445586,\n          3.21,\n          6497.0\n        ],\n        \"semantic_type\": \"\",\n        \"description\": \"\"\n      }\n    },\n    {\n      \"column\": \"sulphates\",\n      \"properties\": {\n        \"dtype\": \"number\",\n        \"std\": 2296.812193891682,\n        \"min\": 0.14880587361449027,\n        \"max\": 6497.0,\n        \"num_unique_values\": 8,\n        \"samples\": [\n          0.5312682776666154,\n          0.51,\n          6497.0\n        ],\n        \"semantic_type\": \"\",\n        \"description\": \"\"\n      }\n    },\n    {\n      \"column\": \"alcohol\",\n      \"properties\": {\n        \"dtype\": \"number\",\n        \"std\": 2293.7220855129394,\n        \"min\": 1.192711748868981,\n        \"max\": 6497.0,\n        \"num_unique_values\": 8,\n        \"samples\": [\n          10.491800831149453,\n          10.3,\n          6497.0\n        ],\n        \"semantic_type\": \"\",\n        \"description\": \"\"\n      }\n    },\n    {\n      \"column\": \"quality\",\n      \"properties\": {\n        \"dtype\": \"number\",\n        \"std\": 2295.234912335805,\n        \"min\": 0.8732552715311248,\n        \"max\": 6497.0,\n        \"num_unique_values\": 7,\n        \"samples\": [\n          6497.0,\n          5.818377712790519,\n          6.0\n        ],\n        \"semantic_type\": \"\",\n        \"description\": \"\"\n      }\n    }\n  ]\n}"
            }
          },
          "metadata": {},
          "execution_count": 8
        }
      ]
    },
    {
      "cell_type": "code",
      "source": [
        "wine_quality_df.head()"
      ],
      "metadata": {
        "id": "yo0lWrj8X2kn"
      },
      "execution_count": null,
      "outputs": []
    },
    {
      "cell_type": "markdown",
      "source": [
        "To ensure the integrity of our original data set, it's a best practice to work with a copy of the data frame when performing data manipulation. By creating a copy, we can freely experiment with various techniques and make modifications without affecting the original data. This way, we can have peace of mind knowing that the original data set remains untouched."
      ],
      "metadata": {
        "id": "Wj4HDCkvZAFI"
      }
    },
    {
      "cell_type": "code",
      "source": [
        "import pandas as pd\n",
        "import numpy as np\n",
        "wine_quality_df = pd.read_csv('https://archive.ics.uci.edu/static/public/186/data.csv', sep= ',')\n",
        "df = wine_quality_df.copy()"
      ],
      "metadata": {
        "id": "U7cjHE_cZDdQ"
      },
      "execution_count": 9,
      "outputs": []
    },
    {
      "cell_type": "markdown",
      "source": [
        "**1. What is maximum amount of citric acid in the wine? Enter the answer to 1 decimal point.**"
      ],
      "metadata": {
        "id": "GBvLdNIbaaTB"
      }
    },
    {
      "cell_type": "code",
      "source": [
        "import pandas as pd\n",
        "import numpy as np\n",
        "\n",
        "wine_quality_df = pd.read_csv('winequality-red.csv', sep= ';')\n",
        "\n",
        "df= wine_quality_df['citric acid'].max()\n",
        "\n",
        "df\n"
      ],
      "metadata": {
        "id": "AEVdi-R0abt4"
      },
      "execution_count": null,
      "outputs": []
    },
    {
      "cell_type": "markdown",
      "source": [
        "**2. How many missing values are in the dataset?**"
      ],
      "metadata": {
        "id": "0PxmE-46adxw"
      }
    },
    {
      "cell_type": "code",
      "source": [
        "import pandas as pd\n",
        "import numpy as np\n",
        "\n",
        "wine_quality_df = pd.read_csv('winequality-red.csv', sep= ';')\n",
        "\n",
        "df = wine_quality_df\n",
        "\n",
        "df.info()"
      ],
      "metadata": {
        "id": "1FY9ni5Ka_v4"
      },
      "execution_count": null,
      "outputs": []
    },
    {
      "cell_type": "markdown",
      "source": [
        "**3. What is the median wine quality?**"
      ],
      "metadata": {
        "id": "gmjre6AHbCMY"
      }
    },
    {
      "cell_type": "code",
      "source": [
        "import pandas as pd\n",
        "import numpy as np\n",
        "\n",
        "wine_quality_df = pd.read_csv('winequality-red.csv', sep= ';')\n",
        "\n",
        "df = wine_quality_df\n",
        "\n",
        "df.median()"
      ],
      "metadata": {
        "id": "Qv9CD7bWbCrI"
      },
      "execution_count": null,
      "outputs": []
    },
    {
      "cell_type": "markdown",
      "source": [
        "# Row and Column modification"
      ],
      "metadata": {
        "id": "1PJf39zsbqpR"
      }
    },
    {
      "cell_type": "markdown",
      "source": [
        "**4. Rename the columns to have underscore instead of space. For example old name: fixed acidity to new name: fixed_acidity**"
      ],
      "metadata": {
        "id": "rjRDRfiubr9R"
      }
    },
    {
      "cell_type": "code",
      "source": [
        "import pandas as pd\n",
        "import numpy as np\n",
        "\n",
        "wine_quality_df = pd.read_csv('winequality-red.csv', sep= ';')\n",
        "\n",
        "df = wine_quality_df\n",
        "\n",
        "df.rename(columns = {\"fixed acidity\": \"fixed_acidity\",\n",
        "                     \"volatile acidity\": \"volatile_acidity\",\n",
        "                     \"citric acid\": \"citric_acid\",\n",
        "                     \"residual sugar\": \"residual_sugar\",\n",
        "                     \"fixed acidity\": \"fixed_acidity\",\n",
        "                     \"free sulfur dioxide\": \"free_sulfur_dioxide\",\n",
        "                     \"total sulfur dioxide\": \"total_sulfur_dioxide\"}, inplace = True)\n",
        "\n",
        "df"
      ],
      "metadata": {
        "id": "T-ohoRs8btI5"
      },
      "execution_count": null,
      "outputs": []
    },
    {
      "cell_type": "code",
      "source": [
        "df.columns = ..."
      ],
      "metadata": {
        "id": "Rx0SFIQubuJB"
      },
      "execution_count": null,
      "outputs": []
    },
    {
      "cell_type": "markdown",
      "source": [
        "**5. Drop the first and last row**"
      ],
      "metadata": {
        "id": "FsNXB70Uc8d7"
      }
    },
    {
      "cell_type": "code",
      "source": [
        "import pandas as pd\n",
        "import numpy as np\n",
        "\n",
        "wine_quality_df = pd.read_csv('winequality-red.csv', sep= ';')\n",
        "\n",
        "df = wine_quality_df\n",
        "\n",
        "df_first_last = df.drop([0,1598])\n",
        "\n",
        "df"
      ],
      "metadata": {
        "id": "ZC87DeZpc-P5"
      },
      "execution_count": null,
      "outputs": []
    },
    {
      "cell_type": "markdown",
      "source": [
        "**6. The dataset contains an outlier. Remove the row where that contains the maximum total sulfur dioxide.**"
      ],
      "metadata": {
        "id": "UstC5rPIdH3x"
      }
    },
    {
      "cell_type": "code",
      "source": [
        "import pandas as pd\n",
        "import numpy as np\n",
        "\n",
        "wine_quality_df = pd.read_csv('winequality-red.csv', sep= ';')\n",
        "\n",
        "df = wine_quality_df\n",
        "\n",
        "df.rename(columns = {\"fixed acidity\": \"fixed_acidity\",\n",
        "                     \"volatile acidity\": \"volatile_acidity\",\n",
        "                     \"citric acid\": \"citric_acid\",\n",
        "                     \"residual sugar\": \"residual_sugar\",\n",
        "                     \"fixed acidity\": \"fixed_acidity\",\n",
        "                     \"free sulfur dioxide\": \"free_sulfur_dioxide\",\n",
        "                     \"total sulfur dioxide\": \"total_sulfur_dioxide\"}, inplace = True)\n",
        "\n",
        "df_first_last = df.drop([0,1598])\n",
        "\n",
        "df_drop = df.drop(df[df['total_sulfur_dioxide'] == df['total_sulfur_dioxide'].max()].index)\n",
        "\n",
        "\n",
        "df"
      ],
      "metadata": {
        "id": "qEAfqI2ndIgh"
      },
      "execution_count": null,
      "outputs": []
    },
    {
      "cell_type": "markdown",
      "source": [
        "**7. We notice that all the datatypes are float besides the quality column. Convert the column to float datatype**"
      ],
      "metadata": {
        "id": "EU2ttiB7dp7w"
      }
    },
    {
      "cell_type": "code",
      "source": [
        "import pandas as pd\n",
        "import numpy as np\n",
        "\n",
        "wine_quality_df = pd.read_csv('winequality-red.csv', sep= ';')\n",
        "\n",
        "df = wine_quality_df\n",
        "\n",
        "df.rename(columns = {\"fixed acidity\": \"fixed_acidity\",\n",
        "                     \"volatile acidity\": \"volatile_acidity\",\n",
        "                     \"citric acid\": \"citric_acid\",\n",
        "                     \"residual sugar\": \"residual_sugar\",\n",
        "                     \"fixed acidity\": \"fixed_acidity\",\n",
        "                     \"free sulfur dioxide\": \"free_sulfur_dioxide\",\n",
        "                     \"total sulfur dioxide\": \"total_sulfur_dioxide\"}, inplace = True)\n",
        "\n",
        "df_first_last = df.drop([0,1598])\n",
        "\n",
        "df_drop = df.drop(df[df['total_sulfur_dioxide'] == df['total_sulfur_dioxide'].max()].index)\n",
        "\n",
        "df['quality_float'] = df['quality'].astype(float)\n",
        "\n",
        "df"
      ],
      "metadata": {
        "id": "re4qyHordq5A"
      },
      "execution_count": null,
      "outputs": []
    },
    {
      "cell_type": "markdown",
      "source": [
        "**8. Remove these columns from the dataset**"
      ],
      "metadata": {
        "id": "7ITT6s4Cd8Lh"
      }
    },
    {
      "cell_type": "code",
      "source": [
        "import pandas as pd\n",
        "import numpy as np\n",
        "\n",
        "wine_quality_df = pd.read_csv('winequality-red.csv', sep= ';')\n",
        "\n",
        "df = wine_quality_df\n",
        "\n",
        "df.rename(columns = {\"fixed acidity\": \"fixed_acidity\",\n",
        "                     \"volatile acidity\": \"volatile_acidity\",\n",
        "                     \"citric acid\": \"citric_acid\",\n",
        "                     \"residual sugar\": \"residual_sugar\",\n",
        "                     \"fixed acidity\": \"fixed_acidity\",\n",
        "                     \"free sulfur dioxide\": \"free_sulfur_dioxide\",\n",
        "                     \"total sulfur dioxide\": \"total_sulfur_dioxide\"}, inplace = True)\n",
        "\n",
        "df_first_last = df.drop([0,1598])\n",
        "\n",
        "df_drop = df.drop(df[df['total_sulfur_dioxide'] == df['total_sulfur_dioxide'].max()].index)\n",
        "\n",
        "df['quality_float'] = df['quality'].astype(float)\n",
        "\n",
        "df_drop_three = df.drop([ 'density', 'residual_sugar', 'chlorides' ],axis=1)\n",
        "\n",
        "df"
      ],
      "metadata": {
        "id": "MtokS0SKd-vZ"
      },
      "execution_count": null,
      "outputs": []
    },
    {
      "cell_type": "markdown",
      "source": [
        "# Basic Column operations"
      ],
      "metadata": {
        "id": "SSMhcWjFeAkB"
      }
    },
    {
      "cell_type": "markdown",
      "source": [
        "**9.  Create a new column that calculates the alcohol content in terms of percentage (%)**"
      ],
      "metadata": {
        "id": "NP1AqrY5eCcY"
      }
    },
    {
      "cell_type": "code",
      "source": [
        "import pandas as pd\n",
        "import numpy as np\n",
        "\n",
        "wine_quality_df = pd.read_csv('winequality-red.csv', sep= ';')\n",
        "\n",
        "df = wine_quality_df\n",
        "\n",
        "df.rename(columns = {\"fixed acidity\": \"fixed_acidity\",\n",
        "                     \"volatile acidity\": \"volatile_acidity\",\n",
        "                     \"citric acid\": \"citric_acid\",\n",
        "                     \"residual sugar\": \"residual_sugar\",\n",
        "                     \"fixed acidity\": \"fixed_acidity\",\n",
        "                     \"free sulfur dioxide\": \"free_sulfur_dioxide\",\n",
        "                     \"total sulfur dioxide\": \"total_sulfur_dioxide\"}, inplace = True)\n",
        "\n",
        "df_first_last = df.drop([0,1598])\n",
        "\n",
        "df_drop = df.drop(df[df['total_sulfur_dioxide'] == df['total_sulfur_dioxide'].max()].index)\n",
        "\n",
        "df['quality_float'] = df['quality'].astype(float)\n",
        "\n",
        "df_drop_three = df.drop([ 'density', 'residual_sugar', 'chlorides' ],axis=1)\n",
        "\n",
        "df"
      ],
      "metadata": {
        "id": "ZBBYeIsBeE55"
      },
      "execution_count": null,
      "outputs": []
    },
    {
      "cell_type": "markdown",
      "source": [
        "**10. Create a new column in the data frame that contains the sum of sulfates and citric_acid for the red wine.**"
      ],
      "metadata": {
        "id": "0tdxyGf8e7q5"
      }
    },
    {
      "cell_type": "code",
      "source": [
        "import pandas as pd\n",
        "import numpy as np\n",
        "\n",
        "wine_quality_df = pd.read_csv('winequality-red.csv', sep= ';')\n",
        "\n",
        "df = wine_quality_df\n",
        "\n",
        "df.rename(columns = {\"fixed acidity\": \"fixed_acidity\",\n",
        "                     \"volatile acidity\": \"volatile_acidity\",\n",
        "                     \"citric acid\": \"citric_acid\",\n",
        "                     \"residual sugar\": \"residual_sugar\",\n",
        "                     \"fixed acidity\": \"fixed_acidity\",\n",
        "                     \"free sulfur dioxide\": \"free_sulfur_dioxide\",\n",
        "                     \"total sulfur dioxide\": \"total_sulfur_dioxide\"}, inplace = True)\n",
        "\n",
        "df_first_last = df.drop([0,1598])\n",
        "\n",
        "df_drop = df.drop(df[df['total_sulfur_dioxide'] == df['total_sulfur_dioxide'].max()].index)\n",
        "\n",
        "df['quality_float'] = df['quality'].astype(float)\n",
        "\n",
        "df_drop_three = df.drop([ 'density', 'residual_sugar', 'chlorides' ],axis=1)\n",
        "\n",
        "df['alcohol_perc'] = (df['alcohol'] / df['alcohol'].max()) * 100\n",
        "\n",
        "df['sulphate_citric_acid'] = df['citric_acid'] + df['sulphates']\n",
        "\n",
        "df"
      ],
      "metadata": {
        "id": "hLP4Fi5ae9AB"
      },
      "execution_count": null,
      "outputs": []
    },
    {
      "cell_type": "markdown",
      "source": [
        "**11. Create a new column that where the alcohol content is less than its mean.**\n"
      ],
      "metadata": {
        "id": "DwpuCv2ye_e6"
      }
    },
    {
      "cell_type": "code",
      "source": [
        "import pandas as pd\n",
        "import numpy as np\n",
        "\n",
        "wine_quality_df = pd.read_csv('winequality-red.csv', sep= ';')\n",
        "\n",
        "df = wine_quality_df\n",
        "\n",
        "df.rename(columns = {\"fixed acidity\": \"fixed_acidity\",\n",
        "                     \"volatile acidity\": \"volatile_acidity\",\n",
        "                     \"citric acid\": \"citric_acid\",\n",
        "                     \"residual sugar\": \"residual_sugar\",\n",
        "                     \"fixed acidity\": \"fixed_acidity\",\n",
        "                     \"free sulfur dioxide\": \"free_sulfur_dioxide\",\n",
        "                     \"total sulfur dioxide\": \"total_sulfur_dioxide\"}, inplace = True)\n",
        "\n",
        "df_first_last = df.drop([0,1598])\n",
        "\n",
        "df_drop = df.drop(df[df['total_sulfur_dioxide'] == df['total_sulfur_dioxide'].max()].index)\n",
        "\n",
        "df['quality_float'] = df['quality'].astype(float)\n",
        "\n",
        "df_drop_three = df.drop([ 'density', 'residual_sugar', 'chlorides' ],axis=1)\n",
        "\n",
        "df['alcohol_perc'] = (df['alcohol'] / df['alcohol'].max()) * 100\n",
        "\n",
        "df['sulphate_citric_acid'] = df['citric_acid'] + df['sulphates']\n",
        "\n",
        "df['deviation_alcohol'] = df['alcohol'] < df['alcohol'].mean()\n",
        "\n",
        "df"
      ],
      "metadata": {
        "id": "5zdZbtRUfAhx"
      },
      "execution_count": null,
      "outputs": []
    },
    {
      "cell_type": "markdown",
      "source": [
        "**12. Convert the wine quality scores into categorical labels: \"low\", \"medium\", \"high\".**"
      ],
      "metadata": {
        "id": "9igX7TKCfCC5"
      }
    },
    {
      "cell_type": "code",
      "source": [
        "import pandas as pd\n",
        "import numpy as np\n",
        "\n",
        "wine_quality_df = pd.read_csv('winequality-red.csv', sep= ';')\n",
        "\n",
        "df = wine_quality_df\n",
        "\n",
        "df.rename(columns = {\"fixed acidity\": \"fixed_acidity\",\n",
        "                     \"volatile acidity\": \"volatile_acidity\",\n",
        "                     \"citric acid\": \"citric_acid\",\n",
        "                     \"residual sugar\": \"residual_sugar\",\n",
        "                     \"fixed acidity\": \"fixed_acidity\",\n",
        "                     \"free sulfur dioxide\": \"free_sulfur_dioxide\",\n",
        "                     \"total sulfur dioxide\": \"total_sulfur_dioxide\"}, inplace = True)\n",
        "\n",
        "df_first_last = df.drop([0,1598])\n",
        "\n",
        "df_drop = df.drop(df[df['total_sulfur_dioxide'] == df['total_sulfur_dioxide'].max()].index)\n",
        "\n",
        "df['quality_float'] = df['quality'].astype(float)\n",
        "\n",
        "df_drop_three = df.drop([ 'density', 'residual_sugar', 'chlorides' ],axis=1)\n",
        "\n",
        "df['alcohol_perc'] = (df['alcohol'] / df['alcohol'].max()) * 100\n",
        "\n",
        "df['sulphate_citric_acid'] = df['citric_acid'] + df['sulphates']\n",
        "\n",
        "df['deviation_alcohol'] = df['alcohol'] < df['alcohol'].mean()\n",
        "\n",
        "df['quality_label'] = ['low' if x <= 5 else 'medium' if x <= 7 else 'high' for x in df['quality']]\n",
        "\n",
        "df"
      ],
      "metadata": {
        "id": "ZtR1mNsPfC1R"
      },
      "execution_count": null,
      "outputs": []
    },
    {
      "cell_type": "markdown",
      "source": [
        "**13. Create a new column that calculates the ratio of free sulfur dioxide to total sulfur dioxide.**"
      ],
      "metadata": {
        "id": "36YJL8FUfEnx"
      }
    },
    {
      "cell_type": "code",
      "source": [
        "import pandas as pd\n",
        "import numpy as np\n",
        "\n",
        "wine_quality_df = pd.read_csv('winequality-red.csv', sep= ';')\n",
        "\n",
        "df = wine_quality_df\n",
        "\n",
        "df.rename(columns = {\"fixed acidity\": \"fixed_acidity\",\n",
        "                     \"volatile acidity\": \"volatile_acidity\",\n",
        "                     \"citric acid\": \"citric_acid\",\n",
        "                     \"residual sugar\": \"residual_sugar\",\n",
        "                     \"fixed acidity\": \"fixed_acidity\",\n",
        "                     \"free sulfur dioxide\": \"free_sulfur_dioxide\",\n",
        "                     \"total sulfur dioxide\": \"total_sulfur_dioxide\"}, inplace = True)\n",
        "\n",
        "df_first_last = df.drop([0,1598])\n",
        "\n",
        "df_drop = df.drop(df[df['total_sulfur_dioxide'] == df['total_sulfur_dioxide'].max()].index)\n",
        "\n",
        "df['quality_float'] = df['quality'].astype(float)\n",
        "\n",
        "df_drop_three = df.drop([ 'density', 'residual_sugar', 'chlorides' ],axis=1)\n",
        "\n",
        "df['alcohol_perc'] = (df['alcohol'] / df['alcohol'].max()) * 100\n",
        "\n",
        "df['sulphate_citric_acid'] = df['citric_acid'] + df['sulphates']\n",
        "\n",
        "df['deviation_alcohol'] = df['alcohol'] < df['alcohol'].mean()\n",
        "\n",
        "df['quality_label'] = ['low' if x <= 5 else 'medium' if x <= 7 else 'high' for x in df['quality']]\n",
        "\n",
        "df['free_total_ratio'] = df['free_sulfur_dioxide'] / df['total_sulfur_dioxide']\n",
        "\n",
        "df"
      ],
      "metadata": {
        "id": "AB157tvAfFUp"
      },
      "execution_count": null,
      "outputs": []
    }
  ]
}